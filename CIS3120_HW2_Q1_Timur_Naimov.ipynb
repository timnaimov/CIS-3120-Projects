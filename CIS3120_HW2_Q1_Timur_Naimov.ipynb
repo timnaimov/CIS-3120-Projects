{
  "nbformat": 4,
  "nbformat_minor": 0,
  "metadata": {
    "colab": {
      "provenance": []
    },
    "kernelspec": {
      "name": "python3",
      "display_name": "Python 3"
    },
    "language_info": {
      "name": "python"
    }
  },
  "cells": [
    {
      "cell_type": "markdown",
      "source": [
        "Question #1"
      ],
      "metadata": {
        "id": "iJZB_9_HBy3B"
      }
    },
    {
      "cell_type": "code",
      "source": [
        "# Import the libraries\n",
        "import pandas as pd\n",
        "from bs4 import BeautifulSoup\n",
        "import requests\n",
        "\n",
        "# URL of the Wikipedia page\n",
        "url = 'https://en.wikipedia.org/wiki/List_of_largest_companies_by_revenue'\n",
        "\n",
        "# Fetch the webpage content\n",
        "response = requests.get(url)\n",
        "soup = BeautifulSoup(response.content, 'html.parser')\n",
        "\n",
        "# Find the table with class \"wikitable\"\n",
        "table = soup.find(\"table\", {\"class\": \"wikitable\"})\n",
        "\n",
        "# Read the table into a DataFrame\n",
        "df = pd.read_html(str(table))[0]\n",
        "\n",
        "# Flatten MultiIndex columns\n",
        "df.columns = [' '.join(col).strip() for col in df.columns.values]\n",
        "\n",
        "# Clean the column names\n",
        "df.columns = df.columns.str.strip()\n",
        "\n",
        "# Remove noise characters from numeric columns and convert to float\n",
        "numeric_columns = [\"Revenue USD millions\", \"Profit USD millions\"]\n",
        "df[numeric_columns] = df[numeric_columns].replace({\"[\\$,]\": \"\", \"–\": \"-\", \"−\": \"-\", \"[…...]\": \"\"}, regex=True)\n",
        "df[numeric_columns] = df[numeric_columns].apply(pd.to_numeric, errors='coerce')\n",
        "\n",
        "# Drop rows with NaN values\n",
        "df = df.dropna(subset=numeric_columns)\n",
        "\n",
        "# Calculate statistics for numeric columns\n",
        "statistics = df[numeric_columns].describe().round(2)\n",
        "\n",
        "print(\"Statistics for 'Revenue' and 'Profit' columns:\")\n",
        "print(statistics)\n"
      ],
      "metadata": {
        "colab": {
          "base_uri": "https://localhost:8080/"
        },
        "id": "YVG5lZkrURHr",
        "outputId": "30ec7084-dc6a-46d1-ec1c-eb3c216fbd71"
      },
      "execution_count": 10,
      "outputs": [
        {
          "output_type": "stream",
          "name": "stdout",
          "text": [
            "Statistics for 'Revenue' and 'Profit' columns:\n",
            "       Revenue USD millions  Profit USD millions\n",
            "count                 48.00                48.00\n",
            "mean              280255.50             20735.73\n",
            "std               127906.37             30387.55\n",
            "min               157403.00            -22819.00\n",
            "25%               180390.00              4212.75\n",
            "50%               242419.50             13485.00\n",
            "75%               319473.75             20664.50\n",
            "max               611289.00            159069.00\n"
          ]
        }
      ]
    }
  ]
}