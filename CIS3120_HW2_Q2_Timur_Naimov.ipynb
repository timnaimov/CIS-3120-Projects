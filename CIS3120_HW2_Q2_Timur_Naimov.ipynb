{
  "nbformat": 4,
  "nbformat_minor": 0,
  "metadata": {
    "colab": {
      "provenance": []
    },
    "kernelspec": {
      "name": "python3",
      "display_name": "Python 3"
    },
    "language_info": {
      "name": "python"
    }
  },
  "cells": [
    {
      "cell_type": "code",
      "source": [
        "# Import the libraries\n",
        "import requests\n",
        "import pandas as pd\n",
        "import time\n",
        "\n",
        "# Set API key and base URL\n",
        "api_key = '7gFWlKTl2+JIC+VapdaMjA==7IvDvPIJ5ez7IBXQ'\n",
        "base_url = 'https://api.api-ninjas.com/v1/country?'\n",
        "\n",
        "# List of countries to query\n",
        "countries = ['Italy', 'Turkey', 'Uzbekistan', 'Russia', 'Iran', 'India', 'China', 'Japan', 'Jordan', 'France']\n",
        "\n",
        "# Initialize an empty list to store data\n",
        "data_list = []\n",
        "\n",
        "# Make 10 requests to the API with different querying values\n",
        "for country in countries:\n",
        "    url = f'{base_url}name={country}'\n",
        "    response = requests.get(url, headers={'X-Api-Key': api_key})\n",
        "    if response.status_code == 200:\n",
        "        country_data = response.json()[0]  # Assuming the API returns data for a single country\n",
        "        country_info = {\n",
        "            'Country name': country_data['name'],\n",
        "            'Region': country_data['region'],\n",
        "            'Capital': country_data['capital'],\n",
        "            'Population (millions)': country_data['population'] / 1000,\n",
        "            'Currency': country_data['currency']['name']\n",
        "        }\n",
        "        data_list.append(country_info)\n",
        "        time.sleep(1)  # Add a delay between requests to avoid rate limiting\n",
        "\n",
        "# Create a DataFrame from the collected data\n",
        "df = pd.DataFrame(data_list)\n",
        "\n",
        "# Print descriptive statistics for the DataFrame\n",
        "print(df.describe())\n",
        "\n",
        "# Export the DataFrame to a CSV file\n",
        "df.to_csv('country_data.csv', index=False)"
      ],
      "metadata": {
        "colab": {
          "base_uri": "https://localhost:8080/"
        },
        "id": "YCblIivr2iMb",
        "outputId": "67840ea8-ae51-46b8-a636-3bd8d2b9aa09"
      },
      "execution_count": 9,
      "outputs": [
        {
          "output_type": "stream",
          "name": "stdout",
          "text": [
            "       Population (millions)\n",
            "count              10.000000\n",
            "mean              342.947800\n",
            "std               563.770452\n",
            "min                10.203000\n",
            "25%                61.665000\n",
            "50%                84.166000\n",
            "75%               141.069500\n",
            "max              1439.324000\n"
          ]
        }
      ]
    }
  ]
}