{
 "cells": [
  {
   "cell_type": "markdown",
   "metadata": {
    "id": "CXpgjECrl77C"
   },
   "source": [
    "**Question 2 - Python Review**"
   ]
  },
  {
   "cell_type": "code",
   "execution_count": null,
   "metadata": {
    "colab": {
     "base_uri": "https://localhost:8080/"
    },
    "id": "5UYIQe-WqWXD",
    "outputId": "27055b6e-95d0-47f5-ee7e-bcb8e064371f"
   },
   "outputs": [
    {
     "name": "stdout",
     "output_type": "stream",
     "text": [
      "This program will ask you to enter three integer values.\n",
      "It will then calculate the average of these values and compare each value to the average.\n",
      "To end the data set, enter '666' for all three values.\n",
      "\n",
      "Created by: Timur Naimov\n",
      "\n"
     ]
    }
   ],
   "source": [
    "# Function to print the introduction\n",
    "def introduction():\n",
    "    \"\"\"\n",
    "    This function prints the introduction of the program.\n",
    "    It does not take any parameters and does not return any value.\n",
    "    \"\"\"\n",
    "    print(\"This program will ask you to enter three integer values.\")\n",
    "    print(\"It will then calculate the average of these values and compare each value to the average.\")\n",
    "    print(\"To end the data set, enter '666' for all three values.\")\n",
    "    print(\"\\nCreated by: Timur Naimov\\n\")\n",
    "\n",
    "# Function to find the average of three numbers\n",
    "def findaverage(num1, num2, num3):\n",
    "    \"\"\"\n",
    "    This function takes three integers as parameters and returns their average.\n",
    "    \"\"\"\n",
    "    return (num1 + num2 + num3) / 3\n",
    "\n",
    "# Function to compare each number to the average\n",
    "def comparetoavg(num1, num2, num3, avg):\n",
    "    \"\"\"\n",
    "    This function takes three integers and their average as parameters.\n",
    "    It compares each integer to the average and prints whether it is equal to, less than, or greater than the average.\n",
    "    It also prints the number of integers that are equal to the average.\n",
    "    \"\"\"\n",
    "    nums = [num1, num2, num3]\n",
    "    equal_count = 0\n",
    "\n",
    "    for num in nums:\n",
    "        if num == avg:\n",
    "            print(f\"{num} is equal to the average\")\n",
    "            equal_count += 1\n",
    "        elif num < avg:\n",
    "            print(f\"{num} is below the average\")\n",
    "        else:\n",
    "            print(f\"{num} is above the average\")\n",
    "\n",
    "    print(f\"{equal_count} value(s) equal to the average\")\n",
    "\n",
    "# Main function\n",
    "def main():\n",
    "    \"\"\"\n",
    "    This is the main function of the program.\n",
    "    It calls the introduction function, then enters a loop where it asks the user for three integers,\n",
    "    calculates their average, and compares each integer to the average.\n",
    "    The loop continues until the user enters '666' for all three integers.\n",
    "    \"\"\"\n",
    "    introduction()\n",
    "    data_sets = 0\n",
    "\n",
    "    while True:\n",
    "        num1 = int(input(\"Enter the first integer (or '666' to quit): \"))\n",
    "        num2 = int(input(\"Enter the second integer (or '666' to quit): \"))\n",
    "        num3 = int(input(\"Enter the third integer (or '666' to quit): \"))\n",
    "\n",
    "        if num1 == num2 == num3 == 666:\n",
    "            break\n",
    "\n",
    "        print(f\"The three original integers are: {num1} {num2} {num3}\")\n",
    "        avg = findaverage(num1, num2, num3)\n",
    "        print(f\"The average is {avg:.3f}\")\n",
    "        comparetoavg(num1, num2, num3, avg)\n",
    "        print()\n",
    "        data_sets += 1\n",
    "\n",
    "    print(f\"\\n{data_sets} sets of three data values were entered and processed.\")\n",
    "\n",
    "\n",
    "main()"
   ]
  },
  {
   "cell_type": "code",
   "execution_count": null,
   "metadata": {},
   "outputs": [],
   "source": []
  }
 ],
 "metadata": {
  "colab": {
   "provenance": []
  },
  "kernelspec": {
   "display_name": "Python 3 (ipykernel)",
   "language": "python",
   "name": "python3"
  },
  "language_info": {
   "codemirror_mode": {
    "name": "ipython",
    "version": 3
   },
   "file_extension": ".py",
   "mimetype": "text/x-python",
   "name": "python",
   "nbconvert_exporter": "python",
   "pygments_lexer": "ipython3",
   "version": "3.9.7"
  }
 },
 "nbformat": 4,
 "nbformat_minor": 4
}
