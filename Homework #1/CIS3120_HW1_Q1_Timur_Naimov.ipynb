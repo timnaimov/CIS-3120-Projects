{
  "cells": [
    {
      "cell_type": "markdown",
      "source": [
        "**Question 1 - Web Scraping**"
      ],
      "metadata": {
        "id": "CXpgjECrl77C"
      }
    },
    {
      "cell_type": "code",
      "source": [
        "# Import libraries\n",
        "import requests\n",
        "from bs4 import BeautifulSoup\n",
        "import numpy as np"
      ],
      "metadata": {
        "id": "a-22uca9ob6d"
      },
      "execution_count": 20,
      "outputs": []
    },
    {
      "cell_type": "code",
      "source": [
        "# URLs of the team rosters\n",
        "mens_swim_team = 'https://athletics.baruch.cuny.edu/sports/mens-swimming-and-diving/roster/2022-23?view=2'\n",
        "mens_vollyball_team = 'https://athletics.baruch.cuny.edu/sports/mens-volleyball/roster?view=2&sort=height'\n",
        "womans_swim_team = 'https://athletics.baruch.cuny.edu/sports/womens-swimming-and-diving/roster?view=2'\n",
        "womans_vollyball_team = 'https://athletics.baruch.cuny.edu/sports/womens-volleyball/roster?view=2'"
      ],
      "metadata": {
        "id": "_6kmBeOMojLD"
      },
      "execution_count": 21,
      "outputs": []
    },
    {
      "cell_type": "code",
      "source": [
        "# A function that will receive a URL as a parameter. The function will print the URL received\n",
        "def web_crawler(url):\n",
        "    print(url)\n",
        "\n",
        "    # Reach out to the server on which the website is hosted on to print status code\n",
        "    page = requests.get(url)\n",
        "\n",
        "    # Code only prints if status code equals 200\n",
        "    if page.status_code == 200:\n",
        "        # Import raw HTML into Beautiful Soup\n",
        "        soup = BeautifulSoup(page.content, 'html.parser')\n",
        "        # Print the list of tags which contains the heights\n",
        "        heights = soup.find_all('td', class_='height')\n",
        "\n",
        "        converted_heights = []\n",
        "\n",
        "        # For-loop to extract the heights for each team website\n",
        "        for height in heights:\n",
        "            value = height.get_text()\n",
        "            # Analyze extracted data and converting it into inches\n",
        "            split_heights = value.split('-')\n",
        "\n",
        "            # Grab the first and second value in the string to convert everything ino inches\n",
        "            feet = float(split_heights[0])\n",
        "            inches = float(split_heights[1])\n",
        "            overall_height_inches = feet * 12 + inches\n",
        "\n",
        "            converted_heights.append(overall_height_inches)\n",
        "        # Find the average by adding up all the converted heights and dividing it by the number of players on that team\n",
        "        average_height = sum(converted_heights) / len(converted_heights)\n",
        "        return average_height\n",
        "\n",
        "    else:\n",
        "      print('unable to do scrapping')\n",
        "      return -1"
      ],
      "metadata": {
        "id": "4droGejcovPr"
      },
      "execution_count": 22,
      "outputs": []
    },
    {
      "cell_type": "code",
      "source": [
        "# Call the function\n",
        "average_height_mens_swim = web_crawler(mens_swim_team)\n",
        "average_height_mens_vollyball = web_crawler(mens_vollyball_team)\n",
        "average_height_womens_swim = web_crawler(womans_swim_team)\n",
        "average_height_womens_vollyball = web_crawler(womans_vollyball_team)"
      ],
      "metadata": {
        "colab": {
          "base_uri": "https://localhost:8080/"
        },
        "id": "HFTNWBqRpGny",
        "outputId": "8cd593cd-84d6-4587-ddd3-efb53eff6df7"
      },
      "execution_count": 23,
      "outputs": [
        {
          "output_type": "stream",
          "name": "stdout",
          "text": [
            "https://athletics.baruch.cuny.edu/sports/mens-swimming-and-diving/roster/2022-23?view=2\n",
            "https://athletics.baruch.cuny.edu/sports/mens-volleyball/roster?view=2&sort=height\n",
            "https://athletics.baruch.cuny.edu/sports/womens-swimming-and-diving/roster?view=2\n",
            "https://athletics.baruch.cuny.edu/sports/womens-volleyball/roster?view=2\n"
          ]
        }
      ]
    },
    {
      "cell_type": "code",
      "source": [
        "# Print the average height of teams players and rounding to 2-decimal places\n",
        "print(\"Men's Teams:\")\n",
        "print(f\"Men's Swimming Average Height: {average_height_mens_swim:.2f} cm\")\n",
        "print(f\"Men's Volleyball Average Height: {average_height_mens_vollyball:.2f} cm\")\n",
        "\n",
        "# Compare the average heights between men's teams\n",
        "if average_height_mens_swim and average_height_mens_vollyball:\n",
        "    if average_height_mens_swim > average_height_mens_vollyball:\n",
        "        print(\"\\nOn average, men's swimmers are taller than men's volleyball players.\")\n",
        "    elif average_height_mens_swim < average_height_mens_vollyball:\n",
        "        print(\"\\nOn average, men's volleyball players are taller than men's swimmers.\")\n",
        "    else:\n",
        "        print(\"The average heights of men's swimmers and volleyball players are the same.\")\n",
        "\n",
        "print(\"\\nWomen's Teams:\")\n",
        "print(f\"Women's Swimming Average Height: {average_height_womens_swim:.2f} cm\")\n",
        "print(f\"Women's Volleyball Average Height: {average_height_womens_vollyball:.2f} cm\")\n",
        "\n",
        "# Compare the averages between women's teams\n",
        "if average_height_womens_swim and average_height_womens_vollyball:\n",
        "    if average_height_womens_swim > average_height_womens_vollyball:\n",
        "        print(\"\\nOn average, women's swimmers are taller than women's volleyball players.\")\n",
        "    elif average_height_womens_swim < average_height_womens_vollyball:\n",
        "        print(\"\\nOn average, women's volleyball players are taller than women's swimmers.\")\n",
        "    else:\n",
        "        print(\"The average heights of women'/'s swimmers and volleyball players are the same.\")"
      ],
      "metadata": {
        "colab": {
          "base_uri": "https://localhost:8080/"
        },
        "id": "sUpevD3xl6OK",
        "outputId": "bbb6670f-5d0c-4226-e6a5-e2cdca3317cf"
      },
      "execution_count": 24,
      "outputs": [
        {
          "output_type": "stream",
          "name": "stdout",
          "text": [
            "Men's Teams:\n",
            "Men's Swimming Average Height: 70.33 cm\n",
            "Men's Volleyball Average Height: 72.25 cm\n",
            "\n",
            "On average, men's volleyball players are taller than men's swimmers.\n",
            "\n",
            "Women's Teams:\n",
            "Women's Swimming Average Height: 64.33 cm\n",
            "Women's Volleyball Average Height: 67.25 cm\n",
            "\n",
            "On average, women's volleyball players are taller than women's swimmers.\n"
          ]
        }
      ]
    }
  ],
  "metadata": {
    "colab": {
      "provenance": []
    },
    "kernelspec": {
      "display_name": "Python 3",
      "name": "python3"
    },
    "language_info": {
      "name": "python"
    }
  },
  "nbformat": 4,
  "nbformat_minor": 0
}