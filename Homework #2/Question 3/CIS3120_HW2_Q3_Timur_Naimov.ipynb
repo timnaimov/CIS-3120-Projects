{
  "nbformat": 4,
  "nbformat_minor": 0,
  "metadata": {
    "colab": {
      "provenance": []
    },
    "kernelspec": {
      "name": "python3",
      "display_name": "Python 3"
    },
    "language_info": {
      "name": "python"
    }
  },
  "cells": [
    {
      "cell_type": "markdown",
      "source": [
        "Question #3"
      ],
      "metadata": {
        "id": "xPsMQvZ46MdT"
      }
    },
    {
      "cell_type": "code",
      "execution_count": 1,
      "metadata": {
        "id": "oFB9FMwr6Kgz",
        "colab": {
          "base_uri": "https://localhost:8080/"
        },
        "outputId": "0fa92608-4ed0-4b93-d7a4-12bb609cffa0"
      },
      "outputs": [
        {
          "name": "stdout",
          "output_type": "stream",
          "text": [
            "Enter the original date (format: month/day/year): 5/22/12\n",
            "5/22/12 is the original date\n",
            "5 is the month, 22 is the day, 12 is the year\n",
            "22-5-12 is the European way of printing\n",
            "May 22, 2012 is the American way of printing\n",
            "5-22-2012 is the full way of printing\n",
            "Do you want to enter another date? (yes/no): yes\n",
            "Enter the original date (format: month/day/year): 12/1/03\n",
            "12/1/03 is the original date\n",
            "12 is the month, 1 is the day, 03 is the year\n",
            "1-12-03 is the European way of printing\n",
            "December 1, 2003 is the American way of printing\n",
            "12-1-2003 is the full way of printing\n",
            "Do you want to enter another date? (yes/no): no\n"
          ]
        }
      ],
      "source": [
        "# Function to read the original date\n",
        "def read_original_date():\n",
        "    original_date = input(\"Enter the original date (format: month/day/year): \")\n",
        "    return original_date\n",
        "\n",
        "# Function to break the original date into parts\n",
        "def break_original_date(original_date):\n",
        "    parts = original_date.split('/')\n",
        "    month = parts[0]\n",
        "    day = parts[1]\n",
        "    year = parts[2]\n",
        "    print(f\"{original_date} is the original date\")\n",
        "    print(f\"{month} is the month, {day} is the day, {year} is the year\")\n",
        "    return month, day, year\n",
        "\n",
        "# Function to print the date in three ways\n",
        "def print_date_3_ways(day, month, year):\n",
        "    # European way of printing\n",
        "    european_format = f\"{day}-{month}-{year}\"\n",
        "    print(f\"{european_format} is the European way of printing\")\n",
        "\n",
        "    # American way of printing\n",
        "    months_dict = {\n",
        "        '1': 'January', '2': 'February', '3': 'March', '4': 'April', '5': 'May', '6': 'June',\n",
        "        '7': 'July', '8': 'August', '9': 'September', '10': 'October', '11': 'November', '12': 'December'\n",
        "    }\n",
        "    month_name = months_dict[month]\n",
        "    american_format = f\"{month_name} {day}, 20{year}\"\n",
        "    print(f\"{american_format} is the American way of printing\")\n",
        "\n",
        "    # Full way of printing\n",
        "    full_format = f\"{month}-{day}-20{year}\"\n",
        "    print(f\"{full_format} is the full way of printing\")\n",
        "\n",
        "# Main function\n",
        "def main():\n",
        "    # Loop to handle multiple dates\n",
        "    while True:\n",
        "        original_date = read_original_date()\n",
        "        month, day, year = break_original_date(original_date)\n",
        "        print_date_3_ways(day, month, year)\n",
        "\n",
        "        # Check if user wants to continue\n",
        "        continue_input = input(\"Do you want to enter another date? (yes/no): \")\n",
        "        if continue_input.lower() != 'yes':\n",
        "            break\n",
        "\n",
        "if __name__ == \"__main__\":\n",
        "    main()"
      ]
    }
  ]
}